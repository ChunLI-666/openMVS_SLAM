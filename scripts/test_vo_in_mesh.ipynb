{
 "cells": [
  {
   "cell_type": "code",
   "execution_count": 5,
   "metadata": {},
   "outputs": [],
   "source": [
    "import numpy as np\n",
    "import open3d as o3d\n",
    "from loguru import logger as logger\n",
    "from tqdm import tqdm\n",
    "\n",
    "def read_ply_file(file_path):\n",
    "    # points = []\n",
    "    # with open(file_path, 'r') as file:\n",
    "    #     lines = file.readlines()\n",
    "    #     data_start_line = lines.index('end_header\\n') + 1\n",
    "    #     for line in lines[data_start_line:]:\n",
    "    #         point = list(map(float, line.strip().split()))\n",
    "    #         points.append(point)\n",
    "    \n",
    "    # Load the PLY file\n",
    "    pcd = o3d.io.read_point_cloud(file_path)\n",
    "\n",
    "    # Get the points\n",
    "    points = np.asarray(pcd.points)\n",
    "    print(f'Total of {points.size} points in the {file_path}')\n",
    "    return np.array(points)\n",
    "\n",
    "def write_ply_file(points, trajectory_points, file_path):\n",
    "    with open(file_path, 'w') as file:\n",
    "        file.write('ply\\n')\n",
    "        file.write('format ascii 1.0\\n')\n",
    "        file.write('element vertex {}\\n'.format(len(points)))\n",
    "        file.write('property float x\\n')\n",
    "        file.write('property float y\\n')\n",
    "        file.write('property float z\\n')\n",
    "        file.write('property uchar red\\n')\n",
    "        file.write('property uchar green\\n')\n",
    "        file.write('property uchar blue\\n')\n",
    "        file.write('end_header\\n')\n",
    "        \n",
    "        # Write mesh points with default color\n",
    "        for point in points[:-len(trajectory_points)]:\n",
    "            file.write('{} {} {} 0 255 0\\n'.format(point[0], point[1], point[2]))\n",
    "        \n",
    "        # Write trajectory points with red color\n",
    "        for point in points[-len(trajectory_points):]:\n",
    "            file.write('{} {} {} 255 0 0\\n'.format(point[0], point[1], point[2]))\n",
    "\n",
    "\n",
    "def concatenate_trajectory(mesh_file, trajectory_file, output_file):\n",
    "    # Read mesh file\n",
    "    mesh_points = read_ply_file(mesh_file)\n",
    "    trajectory_points = read_trajectory(trajectory_file)\n",
    "    # Concatenate trajectory points\n",
    "    concatenated_points = np.concatenate((mesh_points, trajectory_points), axis=0)\n",
    "\n",
    "    # Write new PLY file\n",
    "    write_ply_file(concatenated_points, trajectory_points, output_file)\n",
    "\n",
    "\n",
    "def read_trajectory(trajectory_file):\n",
    "    trajectory_points = []\n",
    "    # 读取视觉里程计轨迹\n",
    "    trajectories = np.loadtxt(trajectory_file)\n",
    "    for idx, trajectory in tqdm(enumerate(trajectories), total=len(trajectories), desc='Processing keyframes'): # 获取相机姿态\n",
    "        # timestamp = trajectory[0]\n",
    "        camera_pose = trajectory[1:4]\n",
    "        trajectory_points.append(camera_pose)\n",
    "\n",
    "    return trajectory_points\n",
    "\n",
    "# # Example usage\n",
    "# mesh_file = 'path/to/mesh.ply'\n",
    "# trajectory_points = np.array([[1.0, 2.0, 3.0], [4.0, 5.0, 6.0], [7.0, 8.0, 9.0]])\n",
    "# output_file = 'path/to/output.ply'\n",
    "\n",
    "# concatenate_trajectory(mesh_file, trajectory_points, output_file)\n"
   ]
  },
  {
   "cell_type": "code",
   "execution_count": 6,
   "metadata": {},
   "outputs": [
    {
     "name": "stdout",
     "output_type": "stream",
     "text": [
      "Total of 166973781 points in the /home/charles/Documents/zhongnan/fastlio-color/test-offline-color/test03/scans.pcd\n"
     ]
    },
    {
     "name": "stderr",
     "output_type": "stream",
     "text": [
      "Processing keyframes: 100%|██████████| 456/456 [00:00<00:00, 1674783.38it/s]\n"
     ]
    }
   ],
   "source": [
    "# Example usage\n",
    "mesh_file = \"/home/charles/Documents/zhongnan/fastlio-color/test-offline-color/test03/scans-clean.pcd\"\n",
    "trajectory_file = \"/home/charles/Documents/zhongnan/fastlio-color/test-offline-color/test03/visual_odom.txt\"\n",
    "# trajectory_points = np.array([[1.0, 2.0, 3.0], [4.0, 5.0, 6.0], [7.0, 8.0, 9.0]])\n",
    "output_file = '/home/charles/Documents/zhongnan/fastlio-color/test-offline-color/test03/mesh_with_pose.ply'\n",
    "\n",
    "concatenate_trajectory(mesh_file, trajectory_file, output_file)\n"
   ]
  }
 ],
 "metadata": {
  "kernelspec": {
   "display_name": "openmvs",
   "language": "python",
   "name": "python3"
  },
  "language_info": {
   "codemirror_mode": {
    "name": "ipython",
    "version": 3
   },
   "file_extension": ".py",
   "mimetype": "text/x-python",
   "name": "python",
   "nbconvert_exporter": "python",
   "pygments_lexer": "ipython3",
   "version": "3.12.2"
  },
  "orig_nbformat": 4
 },
 "nbformat": 4,
 "nbformat_minor": 2
}
