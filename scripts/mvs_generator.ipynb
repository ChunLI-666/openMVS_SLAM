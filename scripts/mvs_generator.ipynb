{
 "cells": [
  {
   "cell_type": "code",
   "execution_count": null,
   "metadata": {},
   "outputs": [],
   "source": [
    "# This script is for loading outputs from LIOSAM and ORBSLAM, and convert them to the file as the input of read_pose"
   ]
  },
  {
   "cell_type": "code",
   "execution_count": 20,
   "metadata": {},
   "outputs": [],
   "source": [
    "import os\n",
    "\n",
    "working_directory = \"/home/icl2sgh/data/mesh_texture/BSD_data/Daiwu_sample\"\n",
    "\n",
    "config_file = os.path.join(working_directory, \"index.json\")\n",
    "path_to_raw_image_folder = os.path.join(working_directory, \"raw_images\")\n",
    "path_to_selected_image_folder = os.path.join(working_directory, \"images\")\n",
    "\n",
    "path_to_vo_file =  os.path.join(working_directory, \"vo_pano.txt\")\n",
    "path_to_keyframe_vo_file =  os.path.join(working_directory, \"vo_pano_keyframes.txt\")\n",
    "\n",
    "# path_to_undistort_img = os.path.join(working_directory, \"/undistort_images\")# \"../data/Daiwu_sample/undistort_images/\"\n",
    "\n",
    "mesh_file = os.path.join(working_directory, \"mesh.ply\")# \"../data/Daiwu_sample/mesh.ply\"\n",
    "# trajectory_file =  os.path.join(working_directory, \"vo_pano.txt\")#\"../data/Daiwu_sample/vo_pano.txt\"\n",
    "\n",
    "# mvs_pose_result =  os.path.join(working_directory, \"mvs_pose_result.txt\")#\"../data/Daiwu_sample/mvs_pose_result.txt\"\n",
    "\n",
    "mvs_frame_result = os.path.join(working_directory, \"mvs_frame_result.txt\")#\"../data/Daiwu_sample/mvs_frame_result.txt\"\n"
   ]
  },
  {
   "attachments": {},
   "cell_type": "markdown",
   "metadata": {},
   "source": [
    "Load image and calibration file, then undistort fisheye images and save into \"path_to_undistort_img\""
   ]
  },
  {
   "cell_type": "code",
   "execution_count": 21,
   "metadata": {},
   "outputs": [],
   "source": [
    "import json\n",
    "\n",
    "def load_calib(filename):\n",
    "    # Load the json file\n",
    "    with open(filename, 'r') as f:\n",
    "        data = json.load(f)\n",
    "\n",
    "    # Get the image resolution width and height\n",
    "    width = data['camera_para']['w']\n",
    "    height = data['camera_para']['h']\n",
    "    # Get the camera intrinsic data\n",
    "    fx = data['camera_para']['fx']\n",
    "    fy = data['camera_para']['fy']\n",
    "    cx = data['camera_para']['cx']\n",
    "    cy = data['camera_para']['cy']\n",
    "    k1 = data['camera_para']['k1']\n",
    "    k2 = data['camera_para']['k2']\n",
    "    k3 = data['camera_para']['k3']\n",
    "    k4 = data['camera_para']['k4']\n",
    "\n",
    "    t_LC = data[\"Tlc\"]\n",
    "\n",
    "    return width, height, fx, fy, cx, cy, k1, k2, k3, k4, t_LC"
   ]
  },
  {
   "cell_type": "code",
   "execution_count": null,
   "metadata": {},
   "outputs": [],
   "source": [
    "# import cv2\n",
    "# import numpy as np\n",
    "# import os\n",
    "# import shutil\n",
    "# from tqdm import tqdm\n",
    "\n",
    "# # Function to correct distortion\n",
    "# def undistort_image(img, fx, fy, cx, cy, k1, k2, p3, p4):\n",
    "#     h, w = img.shape[:2]\n",
    "#     K = np.array([[fx, 0, cx], [0, fy, cy], [0, 0, 1]])\n",
    "#     D = np.array([k1, k2, p3, p4]) # distortion coefficients\\\n",
    "#     map1, map2 = cv2.fisheye.initUndistortRectifyMap(K, D, np.eye(3), K, (w, h), cv2.CV_16SC2)\n",
    "#     undistorted_img = cv2.remap(img, map1, map2, interpolation=cv2.INTER_LINEAR, borderMode=cv2.BORDER_CONSTANT)\n",
    "#     return undistorted_img"
   ]
  },
  {
   "cell_type": "code",
   "execution_count": 12,
   "metadata": {},
   "outputs": [],
   "source": [
    "# read vo from vo_file, then select keyframes from vo_file and save them into vo_keyframe_file\n",
    "import math\n",
    "\n",
    "def select_keyframe_from_vo(vo_file, vo_keyframe_file, threshold=8):\n",
    "    # Read VO pano\n",
    "    with open(vo_file, 'r') as f:\n",
    "        vo_pano = f.readlines()\n",
    "\n",
    "    keyframes = []\n",
    "    last_position = None\n",
    "\n",
    "    for line in vo_pano:\n",
    "        data = line.strip().split()\n",
    "        time = data[0]\n",
    "        x, y, z = float(data[1]), float(data[2]), float(data[3])\n",
    "\n",
    "        if last_position is None:\n",
    "            keyframes.append(line)\n",
    "            last_position = (x, y, z)\n",
    "        else:\n",
    "            distance = math.sqrt((x - last_position[0])**2 + (y - last_position[1])**2 + (z - last_position[2])**2)\n",
    "            if distance >= threshold:\n",
    "                keyframes.append(line)\n",
    "                last_position = (x, y, z)\n",
    "\n",
    "    # Save keyframes into vo_keyframe_file\n",
    "    with open(vo_keyframe_file, 'w') as f:\n",
    "        f.writelines(keyframes)\n",
    "\n",
    "# Example usage\n",
    "# vo_file = 'path/to/vo_file.txt'\n",
    "# vo_keyframe_file = 'path/to/vo_keyframe_file.txt'\n",
    "select_keyframe_from_vo(path_to_vo_file, path_to_keyframe_vo_file, threshold=5)\n",
    "\n"
   ]
  },
  {
   "cell_type": "code",
   "execution_count": 13,
   "metadata": {},
   "outputs": [],
   "source": [
    "# Read images from image folder, then read keyframe info from vo_pano_file, then select keyframe images from image_folder,and store into output_folder\n",
    "import cv2\n",
    "import numpy as np\n",
    "import os\n",
    "import shutil\n",
    "from tqdm import tqdm\n",
    "\n",
    "def process_images(raw_image_folder, vo_keyframe_file, camera_intrinsics, selected_image_folder):\n",
    "    # Camera intrinsics\n",
    "    # fx, fy, cx, cy, k1, k2, k3, k4 = camera_intrinsics\n",
    "\n",
    "    # Create output folder if not exists\n",
    "    if os.path.exists(selected_image_folder):\n",
    "        shutil.rmtree(selected_image_folder)\n",
    "    os.mkdir(selected_image_folder)\n",
    "\n",
    "\n",
    "    # Read VO pano\n",
    "    with open(vo_keyframe_file, 'r') as f:\n",
    "        vo_pano = f.readlines()\n",
    "\n",
    "    # Extract timestamps\n",
    "    timestamps = [float(line.split()[0]) for line in vo_pano]\n",
    "\n",
    "    image_files = sorted(os.listdir(raw_image_folder))\n",
    "\n",
    "    # For each image in folder\n",
    "    cnt = 0\n",
    "    for idx, image_name in tqdm(enumerate(image_files), total=len(image_files), desc='Processing keyframes'):\n",
    "        # Extract timestamp from image name\n",
    "        timestamp = float(image_name.rsplit('.', 1)[0])\n",
    "        \n",
    "        # If timestamp is in vo_pano\n",
    "        if timestamp in timestamps:\n",
    "            # Load image\n",
    "            img = cv2.imread(os.path.join(raw_image_folder, image_name))\n",
    "            selected_image = os.path.join(selected_image_folder, str(f\"{timestamp:.6f}\") + \".jpg\")\n",
    "            print()\n",
    "            # Save image\n",
    "            cv2.imwrite(selected_image, img)   \n",
    "            cnt += 1"
   ]
  },
  {
   "cell_type": "code",
   "execution_count": 14,
   "metadata": {},
   "outputs": [
    {
     "name": "stdout",
     "output_type": "stream",
     "text": [
      "Image Resolution - Width: 3072, Height: 3072\n",
      "Camera Intrinsic Data - fx: 965.5805661476971, fy: 965.6323281356813, cx: 1558.7622938172478, cy: 1554.3208640745897\n",
      "/home/icl2sgh/data/mesh_texture/BSD_data/Daiwu_sample/images\n"
     ]
    },
    {
     "name": "stderr",
     "output_type": "stream",
     "text": [
      "Processing keyframes:   0%|          | 0/1340 [00:00<?, ?it/s]"
     ]
    },
    {
     "name": "stdout",
     "output_type": "stream",
     "text": [
      "\n"
     ]
    },
    {
     "name": "stderr",
     "output_type": "stream",
     "text": [
      "Processing keyframes:   1%|          | 9/1340 [00:00<01:04, 20.59it/s]"
     ]
    },
    {
     "name": "stdout",
     "output_type": "stream",
     "text": [
      "\n"
     ]
    },
    {
     "name": "stderr",
     "output_type": "stream",
     "text": [
      "Processing keyframes:   3%|▎         | 45/1340 [00:00<00:24, 52.39it/s]"
     ]
    },
    {
     "name": "stdout",
     "output_type": "stream",
     "text": [
      "\n"
     ]
    },
    {
     "name": "stderr",
     "output_type": "stream",
     "text": [
      "Processing keyframes:   5%|▌         | 72/1340 [00:01<00:22, 57.43it/s]"
     ]
    },
    {
     "name": "stdout",
     "output_type": "stream",
     "text": [
      "\n"
     ]
    },
    {
     "name": "stderr",
     "output_type": "stream",
     "text": [
      "Processing keyframes:   8%|▊         | 106/1340 [00:01<00:19, 64.66it/s]"
     ]
    },
    {
     "name": "stdout",
     "output_type": "stream",
     "text": [
      "\n"
     ]
    },
    {
     "name": "stderr",
     "output_type": "stream",
     "text": [
      "Processing keyframes:  11%|█▏        | 152/1340 [00:02<00:15, 78.14it/s]"
     ]
    },
    {
     "name": "stdout",
     "output_type": "stream",
     "text": [
      "\n"
     ]
    },
    {
     "name": "stderr",
     "output_type": "stream",
     "text": [
      "Processing keyframes:  14%|█▎        | 183/1340 [00:02<00:15, 76.32it/s]"
     ]
    },
    {
     "name": "stdout",
     "output_type": "stream",
     "text": [
      "\n"
     ]
    },
    {
     "name": "stderr",
     "output_type": "stream",
     "text": [
      "Processing keyframes:  16%|█▌        | 208/1340 [00:03<00:16, 70.70it/s]"
     ]
    },
    {
     "name": "stdout",
     "output_type": "stream",
     "text": [
      "\n"
     ]
    },
    {
     "name": "stderr",
     "output_type": "stream",
     "text": [
      "Processing keyframes:  17%|█▋        | 234/1340 [00:03<00:16, 68.62it/s]"
     ]
    },
    {
     "name": "stdout",
     "output_type": "stream",
     "text": [
      "\n"
     ]
    },
    {
     "name": "stderr",
     "output_type": "stream",
     "text": [
      "Processing keyframes:  19%|█▉        | 258/1340 [00:03<00:16, 65.54it/s]"
     ]
    },
    {
     "name": "stdout",
     "output_type": "stream",
     "text": [
      "\n"
     ]
    },
    {
     "name": "stderr",
     "output_type": "stream",
     "text": [
      "Processing keyframes:  22%|██▏       | 293/1340 [00:04<00:14, 70.17it/s]"
     ]
    },
    {
     "name": "stdout",
     "output_type": "stream",
     "text": [
      "\n"
     ]
    },
    {
     "name": "stderr",
     "output_type": "stream",
     "text": [
      "Processing keyframes:  23%|██▎       | 313/1340 [00:04<00:16, 63.02it/s]"
     ]
    },
    {
     "name": "stdout",
     "output_type": "stream",
     "text": [
      "\n"
     ]
    },
    {
     "name": "stderr",
     "output_type": "stream",
     "text": [
      "Processing keyframes:  25%|██▌       | 336/1340 [00:05<00:16, 61.19it/s]"
     ]
    },
    {
     "name": "stdout",
     "output_type": "stream",
     "text": [
      "\n"
     ]
    },
    {
     "name": "stderr",
     "output_type": "stream",
     "text": [
      "Processing keyframes:  28%|██▊       | 369/1340 [00:05<00:14, 66.80it/s]"
     ]
    },
    {
     "name": "stdout",
     "output_type": "stream",
     "text": [
      "\n"
     ]
    },
    {
     "name": "stderr",
     "output_type": "stream",
     "text": [
      "Processing keyframes:  30%|███       | 402/1340 [00:06<00:13, 70.50it/s]"
     ]
    },
    {
     "name": "stdout",
     "output_type": "stream",
     "text": [
      "\n"
     ]
    },
    {
     "name": "stderr",
     "output_type": "stream",
     "text": [
      "Processing keyframes:  32%|███▏      | 435/1340 [00:06<00:12, 74.26it/s]"
     ]
    },
    {
     "name": "stdout",
     "output_type": "stream",
     "text": [
      "\n"
     ]
    },
    {
     "name": "stderr",
     "output_type": "stream",
     "text": [
      "Processing keyframes:  39%|███▊      | 516/1340 [00:06<00:07, 112.12it/s]"
     ]
    },
    {
     "name": "stdout",
     "output_type": "stream",
     "text": [
      "\n"
     ]
    },
    {
     "name": "stderr",
     "output_type": "stream",
     "text": [
      "Processing keyframes:  41%|████      | 544/1340 [00:07<00:07, 99.95it/s] "
     ]
    },
    {
     "name": "stdout",
     "output_type": "stream",
     "text": [
      "\n"
     ]
    },
    {
     "name": "stderr",
     "output_type": "stream",
     "text": [
      "Processing keyframes:  43%|████▎     | 581/1340 [00:07<00:07, 97.53it/s]"
     ]
    },
    {
     "name": "stdout",
     "output_type": "stream",
     "text": [
      "\n"
     ]
    },
    {
     "name": "stderr",
     "output_type": "stream",
     "text": [
      "Processing keyframes:  45%|████▍     | 597/1340 [00:08<00:09, 77.32it/s]"
     ]
    },
    {
     "name": "stdout",
     "output_type": "stream",
     "text": [
      "\n"
     ]
    },
    {
     "name": "stderr",
     "output_type": "stream",
     "text": [
      "Processing keyframes:  46%|████▌     | 615/1340 [00:08<00:11, 65.87it/s]"
     ]
    },
    {
     "name": "stdout",
     "output_type": "stream",
     "text": [
      "\n"
     ]
    },
    {
     "name": "stderr",
     "output_type": "stream",
     "text": [
      "Processing keyframes:  49%|████▉     | 661/1340 [00:08<00:08, 78.63it/s]"
     ]
    },
    {
     "name": "stdout",
     "output_type": "stream",
     "text": [
      "\n"
     ]
    },
    {
     "name": "stderr",
     "output_type": "stream",
     "text": [
      "Processing keyframes:  53%|█████▎    | 704/1340 [00:09<00:07, 87.44it/s]"
     ]
    },
    {
     "name": "stdout",
     "output_type": "stream",
     "text": [
      "\n"
     ]
    },
    {
     "name": "stderr",
     "output_type": "stream",
     "text": [
      "Processing keyframes:  55%|█████▌    | 743/1340 [00:09<00:06, 90.68it/s]"
     ]
    },
    {
     "name": "stdout",
     "output_type": "stream",
     "text": [
      "\n"
     ]
    },
    {
     "name": "stderr",
     "output_type": "stream",
     "text": [
      "Processing keyframes:  58%|█████▊    | 781/1340 [00:10<00:06, 92.17it/s]"
     ]
    },
    {
     "name": "stdout",
     "output_type": "stream",
     "text": [
      "\n"
     ]
    },
    {
     "name": "stderr",
     "output_type": "stream",
     "text": [
      "Processing keyframes:  60%|██████    | 808/1340 [00:10<00:06, 84.26it/s]"
     ]
    },
    {
     "name": "stdout",
     "output_type": "stream",
     "text": [
      "\n"
     ]
    },
    {
     "name": "stderr",
     "output_type": "stream",
     "text": [
      "Processing keyframes:  63%|██████▎   | 842/1340 [00:10<00:05, 84.31it/s]"
     ]
    },
    {
     "name": "stdout",
     "output_type": "stream",
     "text": [
      "\n"
     ]
    },
    {
     "name": "stderr",
     "output_type": "stream",
     "text": [
      "Processing keyframes:  64%|██████▍   | 864/1340 [00:11<00:06, 74.89it/s]"
     ]
    },
    {
     "name": "stdout",
     "output_type": "stream",
     "text": [
      "\n"
     ]
    },
    {
     "name": "stderr",
     "output_type": "stream",
     "text": [
      "Processing keyframes:  66%|██████▋   | 889/1340 [00:11<00:06, 70.13it/s]"
     ]
    },
    {
     "name": "stdout",
     "output_type": "stream",
     "text": [
      "\n"
     ]
    },
    {
     "name": "stderr",
     "output_type": "stream",
     "text": [
      "Processing keyframes:  68%|██████▊   | 915/1340 [00:12<00:06, 67.92it/s]"
     ]
    },
    {
     "name": "stdout",
     "output_type": "stream",
     "text": [
      "\n"
     ]
    },
    {
     "name": "stderr",
     "output_type": "stream",
     "text": [
      "Processing keyframes:  69%|██████▉   | 929/1340 [00:12<00:07, 57.91it/s]"
     ]
    },
    {
     "name": "stdout",
     "output_type": "stream",
     "text": [
      "\n"
     ]
    },
    {
     "name": "stderr",
     "output_type": "stream",
     "text": [
      "Processing keyframes:  71%|███████   | 951/1340 [00:12<00:06, 56.91it/s]"
     ]
    },
    {
     "name": "stdout",
     "output_type": "stream",
     "text": [
      "\n"
     ]
    },
    {
     "name": "stderr",
     "output_type": "stream",
     "text": [
      "Processing keyframes:  74%|███████▎  | 985/1340 [00:13<00:05, 65.17it/s]"
     ]
    },
    {
     "name": "stdout",
     "output_type": "stream",
     "text": [
      "\n"
     ]
    },
    {
     "name": "stderr",
     "output_type": "stream",
     "text": [
      "Processing keyframes:  76%|███████▌  | 1014/1340 [00:13<00:04, 66.21it/s]"
     ]
    },
    {
     "name": "stdout",
     "output_type": "stream",
     "text": [
      "\n"
     ]
    },
    {
     "name": "stderr",
     "output_type": "stream",
     "text": [
      "Processing keyframes:  78%|███████▊  | 1049/1340 [00:14<00:04, 71.66it/s]"
     ]
    },
    {
     "name": "stdout",
     "output_type": "stream",
     "text": [
      "\n"
     ]
    },
    {
     "name": "stderr",
     "output_type": "stream",
     "text": [
      "Processing keyframes:  81%|████████  | 1088/1340 [00:14<00:03, 76.01it/s]"
     ]
    },
    {
     "name": "stdout",
     "output_type": "stream",
     "text": [
      "\n"
     ]
    },
    {
     "name": "stderr",
     "output_type": "stream",
     "text": [
      "Processing keyframes:  84%|████████▍ | 1131/1340 [00:15<00:02, 85.35it/s]"
     ]
    },
    {
     "name": "stdout",
     "output_type": "stream",
     "text": [
      "\n"
     ]
    },
    {
     "name": "stderr",
     "output_type": "stream",
     "text": [
      "Processing keyframes:  87%|████████▋ | 1164/1340 [00:15<00:02, 83.17it/s]"
     ]
    },
    {
     "name": "stdout",
     "output_type": "stream",
     "text": [
      "\n"
     ]
    },
    {
     "name": "stderr",
     "output_type": "stream",
     "text": [
      "Processing keyframes:  90%|████████▉ | 1202/1340 [00:15<00:01, 83.34it/s]"
     ]
    },
    {
     "name": "stdout",
     "output_type": "stream",
     "text": [
      "\n"
     ]
    },
    {
     "name": "stderr",
     "output_type": "stream",
     "text": [
      "Processing keyframes:  92%|█████████▏| 1228/1340 [00:16<00:01, 75.76it/s]"
     ]
    },
    {
     "name": "stdout",
     "output_type": "stream",
     "text": [
      "\n"
     ]
    },
    {
     "name": "stderr",
     "output_type": "stream",
     "text": [
      "Processing keyframes:  93%|█████████▎| 1247/1340 [00:16<00:01, 65.05it/s]"
     ]
    },
    {
     "name": "stdout",
     "output_type": "stream",
     "text": [
      "\n"
     ]
    },
    {
     "name": "stderr",
     "output_type": "stream",
     "text": [
      "Processing keyframes:  95%|█████████▌| 1278/1340 [00:17<00:00, 68.27it/s]"
     ]
    },
    {
     "name": "stdout",
     "output_type": "stream",
     "text": [
      "\n"
     ]
    },
    {
     "name": "stderr",
     "output_type": "stream",
     "text": [
      "Processing keyframes: 100%|██████████| 1340/1340 [00:17<00:00, 75.63it/s]\n"
     ]
    }
   ],
   "source": [
    "width, height, fx, fy, cx, cy, k1, k2, k3, k4, t_LC = load_calib(config_file)\n",
    "cam_intrinsic = [ fx, fy, cx, cy, k1, k2, k3, k4]\n",
    "print('Image Resolution - Width: {}, Height: {}'.format(width, height))\n",
    "print('Camera Intrinsic Data - fx: {}, fy: {}, cx: {}, cy: {}'.format(fx, fy, cx, cy))\n",
    "print(path_to_selected_image_folder)\n",
    "process_images(path_to_raw_image_folder, \n",
    "                path_to_keyframe_vo_file,\n",
    "                cam_intrinsic,\n",
    "                path_to_selected_image_folder)"
   ]
  },
  {
   "attachments": {},
   "cell_type": "markdown",
   "metadata": {},
   "source": [
    "Extract point info from ply file\n",
    "For each point, calculate how many keyframe images observed this point, and record the id of these keyframe images"
   ]
  },
  {
   "cell_type": "code",
   "execution_count": 22,
   "metadata": {},
   "outputs": [],
   "source": [
    "import numpy as np\n",
    "import matplotlib.pyplot as plt\n",
    "from mpl_toolkits.mplot3d import Axes3D\n",
    "from loguru import logger as logger\n",
    "import open3d as o3d\n",
    "from tqdm import tqdm\n",
    "\n",
    "\n",
    "#  Visualization using Open3D\n",
    "def visualize_point_cloud_and_cameras(vertices, rotation_matrix, camera_pose ):\n",
    "    pcd = o3d.geometry.PointCloud()\n",
    "    pcd.points = o3d.utility.Vector3dVector(vertices)\n",
    "\n",
    "    vis = o3d.visualization.Visualizer()\n",
    "    vis.create_window()\n",
    "    vis.add_geometry(pcd)\n",
    "\n",
    "    camera = o3d.geometry.TriangleMesh.create_coordinate_frame(size=0.3)\n",
    "    world_origin = o3d.geometry.TriangleMesh.create_coordinate_frame(size=0.8)\n",
    "\n",
    "    transformation_matrix = np.eye(4)\n",
    "    transformation_matrix[:3, :3] = rotation_matrix\n",
    "    transformation_matrix[:3, 3] = np.array([camera_pose[0], camera_pose[1],camera_pose[2]])\n",
    "\n",
    "    camera.transform(transformation_matrix)\n",
    "    vis.add_geometry(camera)\n",
    "    vis.add_geometry(world_origin)\n",
    "\n",
    "    vis.run()\n",
    "    vis.destroy_window()\n",
    "\n"
   ]
  },
  {
   "cell_type": "code",
   "execution_count": 26,
   "metadata": {},
   "outputs": [],
   "source": [
    "import numpy as np\n",
    "import open3d as o3d\n",
    "from loguru import logger as logger\n",
    "from tqdm import tqdm\n",
    "\n",
    "def calculate_keyframes(mesh_file, trajectory_file, t_LC, mvs_pose_result_file, vertical_fov=100, horizontal_fov=180):\n",
    "    # 读取mesh.ply文件\n",
    "    mesh = o3d.io.read_triangle_mesh(mesh_file)\n",
    "    vertices = np.asarray(mesh.vertices)\n",
    "    logger.info(\"Vertices number in mesh.ply is {}\".format(len(vertices)))\n",
    "\n",
    "    # 读取视觉里程计轨迹\n",
    "    trajectories = np.loadtxt(trajectory_file)\n",
    "\n",
    "    # Read transformation matric from camera to lidar\n",
    "    t_LC = np.array(t_LC).reshape(4, 4)\n",
    "\n",
    "    # # Extract rotation matrix and translation vector\n",
    "    # R = t_LC[:3, :3]\n",
    "    # t = t_LC[:3, 3]\n",
    "\n",
    "    # # Calculate inverse transformation matrix from camera to LiDAR coordinates\n",
    "    # Rt = np.transpose(R)\n",
    "    # t_inv = -np.dot(Rt, t)\n",
    "    # t_CL = np.eye(4)  # Initialize a 4x4 identity matrix\n",
    "    # t_CL[:3, :3] = Rt\n",
    "    # t_CL[:3, 3] = t_inv\n",
    "    \n",
    "    # 初始化结果\n",
    "    result = []\n",
    "    num_of_visible_point = 0\n",
    "\n",
    "    # 初始化一个字典来存储每个点的关键帧ID\n",
    "    point_to_keyframes = {i: [] for i in range(len(vertices))}\n",
    "\n",
    "    # 使用hidden point removal计算在该viewpoint位置处，可见的点云\n",
    "    pcd = o3d.geometry.PointCloud()\n",
    "    pcd.points = o3d.utility.Vector3dVector(vertices)\n",
    "    # transform the pcd object from lidar coord to camera coord by dotting the TF\n",
    "    # pcd.transform(t_LC)\n",
    "    # o3d.visualization.draw([pcd])\n",
    "\n",
    "    diameter = np.linalg.norm(np.asarray(pcd.get_max_bound()) - np.asarray(pcd.get_min_bound()))\n",
    "    radius = diameter * 100\n",
    "    logger.info(\" hidden point removal radius is {}\".format(radius))\n",
    "\n",
    "    # 在转换点之前，创建一个索引映射\n",
    "    index_map = np.arange(len(vertices))\n",
    "\n",
    "    # camera_poses = []\n",
    "    # 遍历每个关键帧\n",
    "    for idx, trajectory in tqdm(enumerate(trajectories), total=len(trajectories), desc='Processing keyframes'): # 获取相机姿态\n",
    "        # timestamp = trajectory[0]\n",
    "        camera_position = trajectory[1:4]\n",
    "        qx, qy, qz, qw = trajectory[4:]\n",
    "        quaternion = [qw, qx, qy, qz]\n",
    "        # 将四元数转换为旋转矩阵\n",
    "        camera_rotation = o3d.geometry.get_rotation_matrix_from_quaternion(quaternion) # rotation matrix from frame 0 to\n",
    "        camera_pose = np.eye(4)\n",
    "        camera_pose[:3, :3] = camera_rotation\n",
    "        camera_pose[:3, 3] = camera_position\n",
    "        camera_pose_inv = np.linalg.inv(camera_pose)\n",
    " \n",
    "        # 使用hidden point removal计算在该viewpoint位置处，可见的点云\n",
    "        _, pt_map = pcd.hidden_point_removal(camera_position, radius)\n",
    "\n",
    "        # visible_points_pcd = pcd.select_by_index(pt_map)\n",
    "        # o3d.io.write_point_cloud(\"visible_points.ply\", visible_points_pcd)\n",
    "        # o3d.visualization.draw([visible_points_pcd])\n",
    "\n",
    "        visible_points = np.asarray(pcd.points)[pt_map]\n",
    "\n",
    "        # 更新索引映射\n",
    "        visible_indices = index_map[pt_map]\n",
    "\n",
    "        # 使用相机pose以及相机的视场角，计算在该相机的pose处，可见的点云\n",
    "        camera_z_direction = np.array([0,0,1])\n",
    "        # camera_y_direction = np.array([0,1,0]) \n",
    "\n",
    "        visible_points_in_cam = camera_pose_inv[:3, :3] @  visible_points.transpose() + camera_pose_inv[:3, 3].reshape((3,1))\n",
    "        visible_points_in_cam = visible_points_in_cam.transpose()\n",
    "\n",
    "        visible_point_ranges = np.linalg.norm(visible_points_in_cam, axis=1)\n",
    "        theta_z = np.arccos(np.dot(visible_points_in_cam, camera_z_direction) / visible_point_ranges)  # incident angle to camera frame\n",
    "        zenith_angle = np.arccos(visible_points_in_cam[:,1] / visible_point_ranges)\n",
    "        theta_z_in_deg = np.rad2deg(theta_z)\n",
    "        zenith_angle_in_deg = np.rad2deg(zenith_angle)\n",
    "        # logger.info(\"For idx {}, theta_z_in_deg is {}, zenith_angle_in_deg is {}\".format(idx, theta_z_in_deg, zenith_angle_in_deg))\n",
    "        # mask_fov = np.logical_and(zenith_angle < np.deg2rad(90 + vertical_fov/2), np.deg2rad(90 - vertical_fov/2) < zenith_angle, \\\n",
    "        #     theta_z < np.deg2rad(horizontal_fov / 2),  np.deg2rad(- horizontal_fov / 2) < theta_z )\n",
    "        mask_zenith = np.logical_and(np.deg2rad(90 - vertical_fov/2) < zenith_angle, zenith_angle < np.deg2rad(90 + vertical_fov/2))\n",
    "        mask_theta = np.logical_and(np.deg2rad(- horizontal_fov / 2) < theta_z, theta_z < np.deg2rad(horizontal_fov / 2))\n",
    "        mask_fov = np.logical_and(mask_zenith, mask_theta)\n",
    "\n",
    "        # 对该view里面可见的点，添加该keyframe为能看到此点的关键帧\n",
    "        visible_points_in_fov = visible_points[mask_fov]\n",
    "       \n",
    "        # 对该view里面可见的点，添加该keyframe为能看到此点的关键帧\n",
    "        for i, point in enumerate(visible_points_in_fov):\n",
    "            original_index = visible_indices[i]\n",
    "            point_to_keyframes[original_index].append(idx)\n",
    "\n",
    "        # if visualize\n",
    "        # visualize_point_cloud_and_cameras(visible_points_in_fov, camera_rotation, camera_position)\n",
    "\n",
    "\n",
    "        # for point in visible_points:\n",
    "        #     point_to_keyframes[np.where((vertices == point).all(axis=1))[0][0]].append(idx)\n",
    "\n",
    "    # 计算结果\n",
    "    logger.info(\"point_to_keyframes.items lens is {}\".format(len(point_to_keyframes.items())))\n",
    "    for point, keyframes in point_to_keyframes.items():\n",
    "        num_of_keyframes = len(keyframes)\n",
    "        if num_of_keyframes > 0:\n",
    "            num_of_visible_point += 1\n",
    "            result.append(f\"{vertices[point][0]} {vertices[point][1]} {vertices[point][2]} {num_of_keyframes} {' '.join(map(str, keyframes))}\")\n",
    "\n",
    "    return vertices, result, num_of_visible_point"
   ]
  },
  {
   "cell_type": "code",
   "execution_count": 27,
   "metadata": {},
   "outputs": [
    {
     "name": "stderr",
     "output_type": "stream",
     "text": [
      "Processing keyframes: 100%|██████████| 42/42 [00:00<00:00, 74110.55it/s]\n"
     ]
    }
   ],
   "source": [
    "from tqdm import tqdm\n",
    "\n",
    "trajectories = np.loadtxt(path_to_keyframe_vo_file)\n",
    "# write MVS keyframe info\n",
    "MVS_result = []\n",
    "MVS_result.append(f\"MVS {width} {height}\")\n",
    "MVS_result.append(f\"{len(trajectories)}\")\n",
    "for idx, trajectory in tqdm(enumerate(trajectories), total=len(trajectories), desc='Processing keyframes'): # 获取相机姿态\n",
    "    timestamp = trajectory[0]\n",
    "    camera_position = trajectory[1:4]\n",
    "    qx, qy, qz, qw = trajectory[4:]\n",
    "    # quaternion = [qw, qx, qy, qz]\n",
    "    MVS_result.append(f\"{idx} {fx} {fy} {cx} {cy} {qw} {qx} {qy} {qz} {camera_position[0]} {camera_position[1]} {camera_position[2]} {timestamp:6f}\")\n",
    "\n",
    "with open(mvs_frame_result, 'w') as file:\n",
    "    # file.write(f\"{len(vertices)}\\n\")\n",
    "    file.write(\"\\n\".join(MVS_result))\n"
   ]
  },
  {
   "cell_type": "code",
   "execution_count": 28,
   "metadata": {},
   "outputs": [
    {
     "name": "stderr",
     "output_type": "stream",
     "text": [
      "2023-08-16 16:55:47.822 | INFO     | __main__:calculate_keyframes:10 - Vertices number in mesh.ply is 9462482\n",
      "2023-08-16 16:55:52.708 | INFO     | __main__:calculate_keyframes:45 -  hidden point removal radius is 10018.714601538772\n",
      "Processing keyframes: 100%|██████████| 42/42 [08:07<00:00, 11.60s/it]\n",
      "2023-08-16 17:03:59.961 | INFO     | __main__:calculate_keyframes:111 - point_to_keyframes.items lens is 9462482\n"
     ]
    },
    {
     "name": "stdout",
     "output_type": "stream",
     "text": [
      "Results appended to /home/icl2sgh/data/mesh_texture/BSD_data/Daiwu_sample/mvs_frame_result.txt\n",
      "num_of_visible_point 4625796\n"
     ]
    }
   ],
   "source": [
    "transform_matrix_LC = t_LC\n",
    "vertices, result, num_of_visible_point = calculate_keyframes(mesh_file, path_to_keyframe_vo_file, transform_matrix_LC, mvs_frame_result)\n",
    "\n",
    "# 写入结果到txt文件\n",
    "with open(mvs_frame_result, 'a') as file:\n",
    "    file.write(f\"\\n{num_of_visible_point}\")\n",
    "    file.write(\"\\n\".join(result))\n",
    "\n",
    "print(f\"Results appended to {mvs_frame_result}\")\n",
    "print(f\"num_of_visible_point {num_of_visible_point}\")"
   ]
  }
 ],
 "metadata": {
  "kernelspec": {
   "display_name": "openmvs",
   "language": "python",
   "name": "python3"
  },
  "language_info": {
   "codemirror_mode": {
    "name": "ipython",
    "version": 3
   },
   "file_extension": ".py",
   "mimetype": "text/x-python",
   "name": "python",
   "nbconvert_exporter": "python",
   "pygments_lexer": "ipython3",
   "version": "3.9.17"
  },
  "orig_nbformat": 4
 },
 "nbformat": 4,
 "nbformat_minor": 2
}
