{
 "cells": [
  {
   "cell_type": "code",
   "execution_count": null,
   "metadata": {},
   "outputs": [],
   "source": [
    "# This script is for loading outputs from LIOSAM and ORBSLAM, and convert them to the file as the input of read_pose"
   ]
  },
  {
   "cell_type": "code",
   "execution_count": null,
   "metadata": {},
   "outputs": [],
   "source": [
    "config_file = \"/home/icl2sgh/project/openMVS_SLAM/data/Daiwu_sample/index.json\"\n",
    "path_to_image_folder = \"/home/icl2sgh/project/openMVS_SLAM/data/Daiwu_sample/images/\"\n",
    "path_to_vo_file = \"/home/icl2sgh/project/openMVS_SLAM/data/Daiwu_sample/vo_pano.txt\"\n",
    "path_to_undistort_img =  \"/home/icl2sgh/project/openMVS_SLAM/data/Daiwu_sample/undistort_images/\"\n",
    "\n"
   ]
  },
  {
   "cell_type": "code",
   "execution_count": null,
   "metadata": {},
   "outputs": [],
   "source": [
    "import json\n",
    "\n",
    "def load_calib(filename):\n",
    "    # Load the json file\n",
    "    with open(filename, 'r') as f:\n",
    "        data = json.load(f)\n",
    "\n",
    "    # Get the image resolution width and height\n",
    "    width = data['camera_para']['w']\n",
    "    height = data['camera_para']['h']\n",
    "    # Get the camera intrinsic data\n",
    "    fx = data['camera_para']['fx']\n",
    "    fy = data['camera_para']['fy']\n",
    "    cx = data['camera_para']['cx']\n",
    "    cy = data['camera_para']['cy']\n",
    "    k1 = data['camera_para']['k1']\n",
    "    k2 = data['camera_para']['k2']\n",
    "    k3 = data['camera_para']['k3']\n",
    "    k4 = data['camera_para']['k4']\n",
    "\n",
    "    return width, height, fx, fy, cx, cy, k1, k2, k3, k4"
   ]
  },
  {
   "cell_type": "code",
   "execution_count": null,
   "metadata": {},
   "outputs": [],
   "source": [
    "import cv2\n",
    "import numpy as np\n",
    "import os\n",
    "import shutil\n",
    "\n",
    "# Function to correct distortion\n",
    "def undistort_image(img, fx, fy, cx, cy, k1, k2, p3, p4):\n",
    "    h, w = img.shape[:2]\n",
    "    K = np.array([[fx, 0, cx], [0, fy, cy], [0, 0, 1]])\n",
    "    D = np.array([k1, k2, p3, p4]) # distortion coefficients\n",
    "    map1, map2 = cv2.fisheye.initUndistortRectifyMap(K, D, np.eye(3), K, (w, h), cv2.CV_16SC2)\n",
    "    undistorted_img = cv2.remap(img, map1, map2, interpolation=cv2.INTER_LINEAR, borderMode=cv2.BORDER_CONSTANT)\n",
    "    return undistorted_img"
   ]
  },
  {
   "cell_type": "code",
   "execution_count": null,
   "metadata": {},
   "outputs": [],
   "source": [
    "# Function to process images\n",
    "def process_images(image_folder, vo_pano_file, camera_intrinsics, output_folder):\n",
    "    # Camera intrinsics\n",
    "    fx, fy, cx, cy, k1, k2, k3, k4 = camera_intrinsics\n",
    "\n",
    "    # Create output folder if not exists\n",
    "    os.makedirs(output_folder, exist_ok=True)\n",
    "\n",
    "    # Read VO pano\n",
    "    with open(vo_pano_file, 'r') as f:\n",
    "        vo_pano = f.readlines()\n",
    "\n",
    "    # Extract timestamps\n",
    "    timestamps = [float(line.split()[0]) for line in vo_pano]\n",
    "\n",
    "    # For each image in folder\n",
    "    for image_name in os.listdir(image_folder):\n",
    "        # Extract timestamp from image name\n",
    "        timestamp = float(image_name.rsplit('.', 1)[0])\n",
    "        \n",
    "        # If timestamp is in vo_pano\n",
    "        if timestamp in timestamps:\n",
    "            # Load image\n",
    "            img = cv2.imread(os.path.join(image_folder, image_name))\n",
    "\n",
    "            # Undistort image\n",
    "            undistorted_img = undistort_image(img, fx, fy, cx, cy, k1, k2, k3, k4)\n",
    "\n",
    "            # Save image\n",
    "            cv2.imwrite(os.path.join(output_folder, image_name), undistorted_img)    \n",
    "\n"
   ]
  },
  {
   "cell_type": "code",
   "execution_count": null,
   "metadata": {},
   "outputs": [],
   "source": [
    "width, height, fx, fy, cx, cy, k1, k2, k3, k4 = load_calib(config_file)\n",
    "cam_intrinsic = [ fx, fy, cx, cy, k1, k2, k3, k4]\n",
    "print('Image Resolution - Width: {}, Height: {}'.format(width, height))\n",
    "print('Camera Intrinsic Data - fx: {}, fy: {}, cx: {}, cy: {}'.format(fx, fy, cx, cy))\n",
    "\n",
    "\n",
    "process_images(path_to_image_folder, \n",
    "                path_to_vo_file,\n",
    "                cam_intrinsic,\n",
    "                path_to_undistort_img)"
   ]
  },
  {
   "attachments": {},
   "cell_type": "markdown",
   "metadata": {},
   "source": [
    "Extract point info from ply file\n",
    "For each point, calculate how many keyframe images observed this point, and record the id of these keyframe images"
   ]
  },
  {
   "cell_type": "code",
   "execution_count": null,
   "metadata": {},
   "outputs": [],
   "source": [
    "import open3d as o3d\n",
    "\n",
    "# Load the PLY file\n",
    "pcd = o3d.io.read_point_cloud(mesh_file)\n",
    "\n",
    "# Get the points\n",
    "points = np.asarray(pcd.points)\n",
    "print(f'Total of {points.size} points in the {mesh_file}')\n",
    "# Print the coordinates\n",
    "# for i, point in enumerate(points):\n",
    "    # print(f'Point {i}: x={point[0]}, y={point[1]}, z={point[2]}')\n"
   ]
  },
  {
   "cell_type": "code",
   "execution_count": 2,
   "metadata": {},
   "outputs": [],
   "source": [
    "mesh_file = \"/home/icl2sgh/project/openMVS_SLAM/data/Daiwu_sample/mesh.ply\"\n",
    "trajectory_file = \"/home/icl2sgh/project/openMVS_SLAM/data/Daiwu_sample/vo_pano.txt\"\n",
    "mvs_pose_result = \"/home/icl2sgh/project/openMVS_SLAM/data/Daiwu_sample/mvs_pose_result.txt\""
   ]
  },
  {
   "cell_type": "code",
   "execution_count": 12,
   "metadata": {},
   "outputs": [],
   "source": [
    "import numpy as np\n",
    "import open3d as o3d\n",
    "from loguru import logger as logger\n",
    "from tqdm import tqdm\n",
    "\n",
    "def calculate_keyframes(mesh_file, trajectory_file, mvs_pose_result_file, vertical_fov=100, horizontal_fov=180):\n",
    "    # 读取mesh.ply文件\n",
    "    mesh = o3d.io.read_triangle_mesh(mesh_file)\n",
    "    vertices = np.asarray(mesh.vertices)\n",
    "    logger.info(\"Vertices number in mesh.ply is {}\".format(len(vertices)))\n",
    "\n",
    "    # 读取视觉里程计轨迹\n",
    "    trajectories = np.loadtxt(trajectory_file)\n",
    "\n",
    "    # 初始化结果\n",
    "    result = []\n",
    "    num_of_keyframe_number = 0\n",
    "\n",
    "    # 初始化一个字典来存储每个点的关键帧ID\n",
    "    point_to_keyframes = {i: [] for i in range(len(vertices))}\n",
    "\n",
    "    # 遍历每个关键帧\n",
    "    for idx, trajectory in tqdm(enumerate(trajectories), total=len(trajectories), desc='Processing keyframes'): # 获取相机姿态\n",
    "        timestamp = trajectory[0]\n",
    "        camera_pose = trajectory[1:4]\n",
    "        quaternion = trajectory[4:]\n",
    "\n",
    "        # 将四元数转换为旋转矩阵\n",
    "        rotation_matrix = o3d.geometry.get_rotation_matrix_from_quaternion(quaternion)\n",
    "\n",
    "        # 使用hidden point removal计算在该viewpoint位置处，可见的点云\n",
    "        pcd = o3d.geometry.PointCloud()\n",
    "        pcd.points = o3d.utility.Vector3dVector(vertices)\n",
    "        _, pt_map = pcd.hidden_point_removal(camera_pose, radius=1.0)\n",
    "        visible_points = np.asarray(pcd.points)[pt_map]\n",
    "\n",
    "        # 使用相机pose以及相机的视场角，计算在该相机的pose处，可见的点云\n",
    "        camera_direction = np.dot(rotation_matrix, camera_pose)\n",
    "        dot_product = np.dot(visible_points, camera_direction)\n",
    "        theta = np.arccos(dot_product)\n",
    "        mask_fov = np.logical_and(theta < np.deg2rad(vertical_fov), theta < np.deg2rad(horizontal_fov))\n",
    "\n",
    "        # 对该view里面可见的点，添加该keyframe为能看到此点的关键帧\n",
    "        visible_points_in_fov = visible_points[mask_fov]\n",
    "        for point in visible_points_in_fov:\n",
    "            point_to_keyframes[np.where((vertices == point).all(axis=1))[0][0]].append(idx)\n",
    "\n",
    "    # 计算结果\n",
    "    logger.info(\"point_to_keyframes.items lens is {}\".format(len(point_to_keyframes.items())))\n",
    "    for point, keyframes in point_to_keyframes.items():\n",
    "        num_of_keyframes = len(keyframes)\n",
    "        if num_of_keyframes > 0:\n",
    "            # num_of_keyframe_number += 1\n",
    "            result.append(f\"{vertices[point][0]} {vertices[point][1]} {vertices[point][2]} {num_of_keyframes} {' '.join(map(str, keyframes))}\")\n",
    "\n",
    "    # 写入结果到txt文件\n",
    "    with open(mvs_pose_result_file, 'w') as file:\n",
    "        file.write(f\"{len(vertices)}\\n\")\n",
    "        file.write(\"\\n\".join(result))\n",
    "\n",
    "    print(f\"Results written to result.txt\")\n",
    "\n"
   ]
  },
  {
   "cell_type": "code",
   "execution_count": 13,
   "metadata": {},
   "outputs": [
    {
     "name": "stderr",
     "output_type": "stream",
     "text": [
      "2023-08-07 16:31:34.143 | INFO     | __main__:calculate_keyframes:10 - Vertices number in mesh.ply is 9462482\n",
      "Processing keyframes:   0%|          | 0/258 [00:00<?, ?it/s]/tmp/ipykernel_1359051/2698147043.py:40: RuntimeWarning: invalid value encountered in arccos\n",
      "  theta = np.arccos(dot_product)\n",
      "Processing keyframes:  27%|██▋       | 69/258 [02:04<05:40,  1.80s/it]\n"
     ]
    },
    {
     "ename": "KeyboardInterrupt",
     "evalue": "",
     "output_type": "error",
     "traceback": [
      "\u001b[0;31m---------------------------------------------------------------------------\u001b[0m",
      "\u001b[0;31mKeyboardInterrupt\u001b[0m                         Traceback (most recent call last)",
      "Cell \u001b[0;32mIn[13], line 1\u001b[0m\n\u001b[0;32m----> 1\u001b[0m calculate_keyframes(mesh_file,trajectory_file,mvs_pose_result)\n",
      "Cell \u001b[0;32mIn[12], line 34\u001b[0m, in \u001b[0;36mcalculate_keyframes\u001b[0;34m(mesh_file, trajectory_file, mvs_pose_result_file, vertical_fov, horizontal_fov)\u001b[0m\n\u001b[1;32m     32\u001b[0m pcd \u001b[39m=\u001b[39m o3d\u001b[39m.\u001b[39mgeometry\u001b[39m.\u001b[39mPointCloud()\n\u001b[1;32m     33\u001b[0m pcd\u001b[39m.\u001b[39mpoints \u001b[39m=\u001b[39m o3d\u001b[39m.\u001b[39mutility\u001b[39m.\u001b[39mVector3dVector(vertices)\n\u001b[0;32m---> 34\u001b[0m _, pt_map \u001b[39m=\u001b[39m pcd\u001b[39m.\u001b[39;49mhidden_point_removal(camera_pose, radius\u001b[39m=\u001b[39;49m\u001b[39m1.0\u001b[39;49m)\n\u001b[1;32m     35\u001b[0m visible_points \u001b[39m=\u001b[39m np\u001b[39m.\u001b[39masarray(pcd\u001b[39m.\u001b[39mpoints)[pt_map]\n\u001b[1;32m     37\u001b[0m \u001b[39m# 使用相机pose以及相机的视场角，计算在该相机的pose处，可见的点云\u001b[39;00m\n",
      "\u001b[0;31mKeyboardInterrupt\u001b[0m: "
     ]
    }
   ],
   "source": [
    "calculate_keyframes(mesh_file,trajectory_file,mvs_pose_result)"
   ]
  }
 ],
 "metadata": {
  "kernelspec": {
   "display_name": "openmvs",
   "language": "python",
   "name": "python3"
  },
  "language_info": {
   "codemirror_mode": {
    "name": "ipython",
    "version": 3
   },
   "file_extension": ".py",
   "mimetype": "text/x-python",
   "name": "python",
   "nbconvert_exporter": "python",
   "pygments_lexer": "ipython3",
   "version": "3.9.17"
  },
  "orig_nbformat": 4
 },
 "nbformat": 4,
 "nbformat_minor": 2
}
