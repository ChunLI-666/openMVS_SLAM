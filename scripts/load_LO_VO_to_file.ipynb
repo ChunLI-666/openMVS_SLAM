{
 "cells": [
  {
   "cell_type": "code",
   "execution_count": 1,
   "metadata": {},
   "outputs": [],
   "source": [
    "# This script is for loading outputs from LIOSAM and ORBSLAM, and convert them to the file as the input of read_pose"
   ]
  },
  {
   "cell_type": "code",
   "execution_count": 2,
   "metadata": {},
   "outputs": [],
   "source": [
    "config_file = \"../data/Daiwu_sample/index.json\"\n",
    "path_to_image_folder = \"../data/Daiwu_sample/images/\"\n",
    "path_to_vo_file = \"../data/Daiwu_sample/vo_pano.txt\"\n",
    "path_to_undistort_img =  \"../data/Daiwu_sample/undistort_images/\"\n",
    "\n"
   ]
  },
  {
   "attachments": {},
   "cell_type": "markdown",
   "metadata": {},
   "source": [
    "Load image and calibration file, then undistort fisheye images and save into \"path_to_undistort_img\""
   ]
  },
  {
   "cell_type": "code",
   "execution_count": 3,
   "metadata": {},
   "outputs": [],
   "source": [
    "import json\n",
    "\n",
    "def load_calib(filename):\n",
    "    # Load the json file\n",
    "    with open(filename, 'r') as f:\n",
    "        data = json.load(f)\n",
    "\n",
    "    # Get the image resolution width and height\n",
    "    width = data['camera_para']['w']\n",
    "    height = data['camera_para']['h']\n",
    "    # Get the camera intrinsic data\n",
    "    fx = data['camera_para']['fx']\n",
    "    fy = data['camera_para']['fy']\n",
    "    cx = data['camera_para']['cx']\n",
    "    cy = data['camera_para']['cy']\n",
    "    k1 = data['camera_para']['k1']\n",
    "    k2 = data['camera_para']['k2']\n",
    "    k3 = data['camera_para']['k3']\n",
    "    k4 = data['camera_para']['k4']\n",
    "\n",
    "    t_LC = data[\"Tlc\"]\n",
    "\n",
    "    return width, height, fx, fy, cx, cy, k1, k2, k3, k4, t_LC"
   ]
  },
  {
   "cell_type": "code",
   "execution_count": 4,
   "metadata": {},
   "outputs": [],
   "source": [
    "import cv2\n",
    "import numpy as np\n",
    "import os\n",
    "import shutil\n",
    "from tqdm import tqdm\n",
    "\n",
    "# Function to correct distortion\n",
    "def undistort_image(img, fx, fy, cx, cy, k1, k2, p3, p4):\n",
    "    h, w = img.shape[:2]\n",
    "    K = np.array([[fx, 0, cx], [0, fy, cy], [0, 0, 1]])\n",
    "    D = np.array([k1, k2, p3, p4]) # distortion coefficients\\\n",
    "    map1, map2 = cv2.fisheye.initUndistortRectifyMap(K, D, np.eye(3), K, (w, h), cv2.CV_16SC2)\n",
    "    undistorted_img = cv2.remap(img, map1, map2, interpolation=cv2.INTER_LINEAR, borderMode=cv2.BORDER_CONSTANT)\n",
    "    return undistorted_img"
   ]
  },
  {
   "cell_type": "code",
   "execution_count": 5,
   "metadata": {},
   "outputs": [],
   "source": [
    "# Function to process images\n",
    "def process_images(image_folder, vo_pano_file, camera_intrinsics, output_folder):\n",
    "    # Camera intrinsics\n",
    "    fx, fy, cx, cy, k1, k2, k3, k4 = camera_intrinsics\n",
    "\n",
    "    # Create output folder if not exists\n",
    "    os.makedirs(output_folder, exist_ok=True)\n",
    "\n",
    "    # Read VO pano\n",
    "    with open(vo_pano_file, 'r') as f:\n",
    "        vo_pano = f.readlines()\n",
    "\n",
    "    # Extract timestamps\n",
    "    timestamps = [float(line.split()[0]) for line in vo_pano]\n",
    "\n",
    "    image_files = sorted(os.listdir(image_folder))\n",
    "\n",
    "    # For each image in folder\n",
    "    cnt = 0\n",
    "    for idx, image_name in tqdm(enumerate(image_files), total=len(image_files), desc='Processing keyframes'):\n",
    "        # Extract timestamp from image name\n",
    "        timestamp = float(image_name.rsplit('.', 1)[0])\n",
    "        \n",
    "        # If timestamp is in vo_pano\n",
    "        if timestamp in timestamps:\n",
    "            # Load image\n",
    "            img = cv2.imread(os.path.join(image_folder, image_name))\n",
    "\n",
    "            # Undistort image\n",
    "            undistorted_img = undistort_image(img, fx, fy, cx, cy, k1, k2, k3, k4)\n",
    "            # print(os.path.join(output_folder, str(cnt) + \".jpg\"))\n",
    "            # Save image\n",
    "            cv2.imwrite(os.path.join(output_folder, str(cnt) + \".jpg\"), undistorted_img)   \n",
    "            cnt += 1\n",
    " \n",
    "\n"
   ]
  },
  {
   "cell_type": "code",
   "execution_count": 6,
   "metadata": {},
   "outputs": [
    {
     "name": "stdout",
     "output_type": "stream",
     "text": [
      "Image Resolution - Width: 3072, Height: 3072\n",
      "Camera Intrinsic Data - fx: 965.5805661476971, fy: 965.6323281356813, cx: 1558.7622938172478, cy: 1554.3208640745897\n"
     ]
    }
   ],
   "source": [
    "width, height, fx, fy, cx, cy, k1, k2, k3, k4, t_LC = load_calib(config_file)\n",
    "cam_intrinsic = [ fx, fy, cx, cy, k1, k2, k3, k4]\n",
    "print('Image Resolution - Width: {}, Height: {}'.format(width, height))\n",
    "print('Camera Intrinsic Data - fx: {}, fy: {}, cx: {}, cy: {}'.format(fx, fy, cx, cy))\n",
    "\n",
    "# process_images(path_to_image_folder, \n",
    "#                 path_to_vo_file,\n",
    "#                 cam_intrinsic,\n",
    "#                 path_to_undistort_idx_img)"
   ]
  },
  {
   "attachments": {},
   "cell_type": "markdown",
   "metadata": {},
   "source": [
    "Extract point info from ply file\n",
    "For each point, calculate how many keyframe images observed this point, and record the id of these keyframe images"
   ]
  },
  {
   "cell_type": "code",
   "execution_count": 7,
   "metadata": {},
   "outputs": [],
   "source": [
    "# import open3d as o3d\n",
    "\n",
    "# # Load the PLY file\n",
    "# pcd = o3d.io.read_point_cloud(mesh_file)\n",
    "\n",
    "# # Get the points\n",
    "# points = np.asarray(pcd.points)\n",
    "# print(f'Total of {points.size} points in the {mesh_file}')\n",
    "# # Print the coordinates\n",
    "# # for i, point in enumerate(points):\n",
    "#     # print(f'Point {i}: x={point[0]}, y={point[1]}, z={point[2]}')\n"
   ]
  },
  {
   "cell_type": "code",
   "execution_count": 8,
   "metadata": {},
   "outputs": [],
   "source": [
    "mesh_file = \"../data/Daiwu_sample/mesh.ply\"\n",
    "trajectory_file = \"../data/Daiwu_sample/vo_pano.txt\"\n",
    "mvs_pose_result = \"../data/Daiwu_sample/mvs_pose_result.txt\""
   ]
  },
  {
   "cell_type": "code",
   "execution_count": 9,
   "metadata": {},
   "outputs": [
    {
     "name": "stdout",
     "output_type": "stream",
     "text": [
      "Jupyter environment detected. Enabling Open3D WebVisualizer.\n",
      "[Open3D INFO] WebRTC GUI backend enabled.\n",
      "[Open3D INFO] WebRTCWindowSystem: HTTP handshake server disabled.\n"
     ]
    }
   ],
   "source": [
    "import numpy as np\n",
    "import matplotlib.pyplot as plt\n",
    "from mpl_toolkits.mplot3d import Axes3D\n",
    "from loguru import logger as logger\n",
    "import open3d as o3d\n",
    "from tqdm import tqdm\n",
    "\n",
    "\n",
    "#  Visualization using Open3D\n",
    "def visualize_point_cloud_and_cameras(vertices, rotation_matrix, camera_pose ):\n",
    "    pcd = o3d.geometry.PointCloud()\n",
    "    pcd.points = o3d.utility.Vector3dVector(vertices)\n",
    "\n",
    "    vis = o3d.visualization.Visualizer()\n",
    "    vis.create_window()\n",
    "    vis.add_geometry(pcd)\n",
    "\n",
    "    camera = o3d.geometry.TriangleMesh.create_coordinate_frame(size=0.3)\n",
    "    world_origin = o3d.geometry.TriangleMesh.create_coordinate_frame(size=0.8)\n",
    "\n",
    "\n",
    "\n",
    "    transformation_matrix = np.eye(4)\n",
    "    transformation_matrix[:3, :3] = rotation_matrix\n",
    "    transformation_matrix[:3, 3] = np.array([camera_pose[0], camera_pose[1],camera_pose[2]])\n",
    "\n",
    "    camera.transform(transformation_matrix)\n",
    "    vis.add_geometry(camera)\n",
    "    vis.add_geometry(world_origin)\n",
    "\n",
    "    vis.run()\n",
    "    vis.destroy_window()\n",
    "\n"
   ]
  },
  {
   "cell_type": "code",
   "execution_count": 10,
   "metadata": {},
   "outputs": [],
   "source": [
    "import numpy as np\n",
    "import open3d as o3d\n",
    "from loguru import logger as logger\n",
    "from tqdm import tqdm\n",
    "\n",
    "def calculate_keyframes(mesh_file, trajectory_file, t_LC, mvs_pose_result_file, vertical_fov=100, horizontal_fov=180):\n",
    "    # 读取mesh.ply文件\n",
    "    mesh = o3d.io.read_triangle_mesh(mesh_file)\n",
    "    vertices = np.asarray(mesh.vertices)\n",
    "    logger.info(\"Vertices number in mesh.ply is {}\".format(len(vertices)))\n",
    "\n",
    "    # 读取视觉里程计轨迹\n",
    "    trajectories = np.loadtxt(trajectory_file)\n",
    "\n",
    "    # Read transformation matric from camera to lidar\n",
    "    t_LC = np.array(t_LC).reshape(4, 4)\n",
    "\n",
    "    # # Extract rotation matrix and translation vector\n",
    "    # R = t_LC[:3, :3]\n",
    "    # t = t_LC[:3, 3]\n",
    "\n",
    "    # # Calculate inverse transformation matrix from camera to LiDAR coordinates\n",
    "    # Rt = np.transpose(R)\n",
    "    # t_inv = -np.dot(Rt, t)\n",
    "    # t_CL = np.eye(4)  # Initialize a 4x4 identity matrix\n",
    "    # t_CL[:3, :3] = Rt\n",
    "    # t_CL[:3, 3] = t_inv\n",
    "    \n",
    "    # 初始化结果\n",
    "    result = []\n",
    "    num_of_visible_point = 0\n",
    "\n",
    "    # 初始化一个字典来存储每个点的关键帧ID\n",
    "    point_to_keyframes = {i: [] for i in range(len(vertices))}\n",
    "\n",
    "    # 使用hidden point removal计算在该viewpoint位置处，可见的点云\n",
    "    pcd = o3d.geometry.PointCloud()\n",
    "    pcd.points = o3d.utility.Vector3dVector(vertices)\n",
    "    # transform the pcd object from lidar coord to camera coord by dotting the TF\n",
    "    # pcd.transform(t_LC)\n",
    "    # o3d.visualization.draw([pcd])\n",
    "\n",
    "    diameter = np.linalg.norm(np.asarray(pcd.get_max_bound()) - np.asarray(pcd.get_min_bound()))\n",
    "    radius = diameter * 100\n",
    "    logger.info(\" hidden point removal radius is {}\".format(radius))\n",
    "\n",
    "    # 在转换点之前，创建一个索引映射\n",
    "    index_map = np.arange(len(vertices))\n",
    "\n",
    "    # camera_poses = []\n",
    "    # 遍历每个关键帧\n",
    "    for idx, trajectory in tqdm(enumerate(trajectories), total=len(trajectories), desc='Processing keyframes'): # 获取相机姿态\n",
    "        # timestamp = trajectory[0]\n",
    "        camera_position = trajectory[1:4]\n",
    "        qx, qy, qz, qw = trajectory[4:]\n",
    "        quaternion = [qw, qx, qy, qz]\n",
    "        # 将四元数转换为旋转矩阵\n",
    "        camera_rotation = o3d.geometry.get_rotation_matrix_from_quaternion(quaternion) # rotation matrix from frame 0 to\n",
    "        camera_pose = np.eye(4)\n",
    "        camera_pose[:3, :3] = camera_rotation\n",
    "        camera_pose[:3, 3] = camera_position\n",
    "        camera_pose_inv = np.linalg.inv(camera_pose)\n",
    " \n",
    "        # 使用hidden point removal计算在该viewpoint位置处，可见的点云\n",
    "        _, pt_map = pcd.hidden_point_removal(camera_position, radius)\n",
    "\n",
    "        # visible_points_pcd = pcd.select_by_index(pt_map)\n",
    "        # o3d.io.write_point_cloud(\"visible_points.ply\", visible_points_pcd)\n",
    "        # o3d.visualization.draw([visible_points_pcd])\n",
    "\n",
    "        visible_points = np.asarray(pcd.points)[pt_map]\n",
    "\n",
    "        # 更新索引映射\n",
    "        visible_indices = index_map[pt_map]\n",
    "\n",
    "        # 使用相机pose以及相机的视场角，计算在该相机的pose处，可见的点云\n",
    "        camera_z_direction = np.array([0,0,1])\n",
    "        # camera_y_direction = np.array([0,1,0]) \n",
    "\n",
    "        visible_points_in_cam = camera_pose_inv[:3, :3] @  visible_points.transpose() + camera_pose_inv[:3, 3].reshape((3,1))\n",
    "        visible_points_in_cam = visible_points_in_cam.transpose()\n",
    "\n",
    "        visible_point_ranges = np.linalg.norm(visible_points_in_cam, axis=1)\n",
    "        theta_z = np.arccos(np.dot(visible_points_in_cam, camera_z_direction) / visible_point_ranges)  # incident angle to camera frame\n",
    "        zenith_angle = np.arccos(visible_points_in_cam[:,1] / visible_point_ranges)\n",
    "        theta_z_in_deg = np.rad2deg(theta_z)\n",
    "        zenith_angle_in_deg = np.rad2deg(zenith_angle)\n",
    "        # logger.info(\"For idx {}, theta_z_in_deg is {}, zenith_angle_in_deg is {}\".format(idx, theta_z_in_deg, zenith_angle_in_deg))\n",
    "        # mask_fov = np.logical_and(zenith_angle < np.deg2rad(90 + vertical_fov/2), np.deg2rad(90 - vertical_fov/2) < zenith_angle, \\\n",
    "        #     theta_z < np.deg2rad(horizontal_fov / 2),  np.deg2rad(- horizontal_fov / 2) < theta_z )\n",
    "        mask_zenith = np.logical_and(np.deg2rad(90 - vertical_fov/2) < zenith_angle, zenith_angle < np.deg2rad(90 + vertical_fov/2))\n",
    "        mask_theta = np.logical_and(np.deg2rad(- horizontal_fov / 2) < theta_z, theta_z < np.deg2rad(horizontal_fov / 2))\n",
    "        mask_fov = np.logical_and(mask_zenith, mask_theta)\n",
    "\n",
    "        # visible_points_in_cam = visible_points - camera_pose.reshape((1, 3))\n",
    "\n",
    "        # camera_z_direction_in_world = np.linalg.inv(rotation_matrix) @ camera_z_direction\n",
    "        # norm_vector = np.linalg.norm(visible_points_in_cam , axis=1)\n",
    "        # cos_angle_z = np.dot(visible_points_in_cam, camera_z_direction_in_world) / norm_vector\n",
    "        # theta_z  = np.arccos(cos_angle_z)\n",
    "        # zenith_angle = np.arccos(visible_points_in_cam[:,1] / norm_vector)\n",
    "        # theta_z_in_deg = np.rad2deg(theta_z)\n",
    "        # zenith_angle_in_deg = np.rad2deg(zenith_angle)\n",
    "        # # logger.info(\"For idx {}, theta_z_in_deg is {}, zenith_angle_in_deg is {}\".format(idx, theta_z_in_deg, zenith_angle_in_deg))\n",
    "        # # mask_fov = np.logical_and(zenith_angle < np.deg2rad(90 + vertical_fov/2), np.deg2rad(90 - vertical_fov/2) < zenith_angle, \\\n",
    "        # #     theta_z < np.deg2rad(horizontal_fov / 2),  np.deg2rad(- horizontal_fov / 2) < theta_z )\n",
    "        # mask_zenith = np.logical_and(np.deg2rad(90 - vertical_fov/2) < zenith_angle, zenith_angle < np.deg2rad(90 + vertical_fov/2))\n",
    "        # mask_theta = np.logical_and(np.deg2rad(- horizontal_fov / 2) < theta_z, theta_z < np.deg2rad(horizontal_fov / 2))\n",
    "        # mask_fov = np.logical_and(mask_zenith, mask_theta)\n",
    "\n",
    "        # 对该view里面可见的点，添加该keyframe为能看到此点的关键帧\n",
    "        visible_points_in_fov = visible_points[mask_fov]\n",
    "\n",
    "        \n",
    "        # 对该view里面可见的点，添加该keyframe为能看到此点的关键帧\n",
    "        for i, point in enumerate(visible_points_in_fov):\n",
    "            original_index = visible_indices[i]\n",
    "            point_to_keyframes[original_index].append(idx)\n",
    "\n",
    "        # if visualize\n",
    "        # visualize_point_cloud_and_cameras(visible_points_in_fov, camera_rotation, camera_position)\n",
    "\n",
    "\n",
    "        # for point in visible_points:\n",
    "        #     point_to_keyframes[np.where((vertices == point).all(axis=1))[0][0]].append(idx)\n",
    "\n",
    "    # 计算结果\n",
    "    logger.info(\"point_to_keyframes.items lens is {}\".format(len(point_to_keyframes.items())))\n",
    "    for point, keyframes in point_to_keyframes.items():\n",
    "        num_of_keyframes = len(keyframes)\n",
    "        if num_of_keyframes > 0:\n",
    "            num_of_visible_point += 1\n",
    "            result.append(f\"{vertices[point][0]} {vertices[point][1]} {vertices[point][2]} {num_of_keyframes} {' '.join(map(str, keyframes))}\")\n",
    "\n",
    "    return vertices, result, num_of_visible_point"
   ]
  },
  {
   "cell_type": "code",
   "execution_count": 11,
   "metadata": {},
   "outputs": [
    {
     "name": "stderr",
     "output_type": "stream",
     "text": [
      "Processing keyframes: 100%|██████████| 258/258 [00:00<00:00, 93472.44it/s]\n"
     ]
    }
   ],
   "source": [
    "from tqdm import tqdm\n",
    "\n",
    "trajectories = np.loadtxt(trajectory_file)\n",
    "mvs_frame_result = \"../data/Daiwu_sample/mvs_frame_result.txt\"\n",
    "# write MVS keyframe info\n",
    "MVS_result = []\n",
    "MVS_result.append(f\"MVS {width} {height}\")\n",
    "MVS_result.append(f\"{len(trajectories)}\")\n",
    "for idx, trajectory in tqdm(enumerate(trajectories), total=len(trajectories), desc='Processing keyframes'): # 获取相机姿态\n",
    "    timestamp = trajectory[0]\n",
    "    camera_position = trajectory[1:4]\n",
    "    qx, qy, qz, qw = trajectory[4:]\n",
    "    # quaternion = [qw, qx, qy, qz]\n",
    "    MVS_result.append(f\"{idx} {fx} {fy} {cx} {cy} {qw} {qx} {qy} {qz} {camera_position[0]} {camera_position[1]} {camera_position[2]} {timestamp:6f}\")\n"
   ]
  },
  {
   "cell_type": "code",
   "execution_count": 12,
   "metadata": {},
   "outputs": [],
   "source": [
    "with open(mvs_pose_result, 'w') as file:\n",
    "    # file.write(f\"{len(vertices)}\\n\")\n",
    "    file.write(\"\\n\".join(MVS_result))"
   ]
  },
  {
   "cell_type": "code",
   "execution_count": 13,
   "metadata": {},
   "outputs": [
    {
     "name": "stderr",
     "output_type": "stream",
     "text": [
      "2023-08-14 20:42:30.441 | INFO     | __main__:calculate_keyframes:10 - Vertices number in mesh.ply is 9462482\n",
      "2023-08-14 20:42:35.898 | INFO     | __main__:calculate_keyframes:45 -  hidden point removal radius is 10018.714601538772\n",
      "Processing keyframes:  60%|██████    | 156/258 [28:41<24:33, 14.45s/it]"
     ]
    }
   ],
   "source": [
    "transform_matrix_LC = t_LC\n",
    "vertices, result, num_of_visible_point = calculate_keyframes(mesh_file,trajectory_file,transform_matrix_LC, mvs_pose_result)\n",
    "\n",
    "# 写入结果到txt文件\n",
    "with open(mvs_pose_result, 'a') as file:\n",
    "    file.write(f\"\\n{num_of_visible_point}\")\n",
    "    file.write(\"\\n\".join(result))\n",
    "\n",
    "print(f\"Results appended to {mvs_pose_result}\")\n",
    "print(f\"num_of_visible_point {num_of_visible_point}\")"
   ]
  }
 ],
 "metadata": {
  "kernelspec": {
   "display_name": "openmvs",
   "language": "python",
   "name": "python3"
  },
  "language_info": {
   "codemirror_mode": {
    "name": "ipython",
    "version": 3
   },
   "file_extension": ".py",
   "mimetype": "text/x-python",
   "name": "python",
   "nbconvert_exporter": "python",
   "pygments_lexer": "ipython3",
   "version": "3.9.17"
  },
  "orig_nbformat": 4
 },
 "nbformat": 4,
 "nbformat_minor": 2
}
