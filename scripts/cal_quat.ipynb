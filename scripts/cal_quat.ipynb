{
 "cells": [
  {
   "cell_type": "code",
   "execution_count": 12,
   "metadata": {},
   "outputs": [
    {
     "name": "stdout",
     "output_type": "stream",
     "text": [
      "[-5.83435667e-02  8.53903138e-01 -5.17151211e-01  2.90431095e-04]\n"
     ]
    }
   ],
   "source": [
    "from scipy.spatial.transform import Rotation\n",
    "import numpy as np\n",
    "\n",
    "# rotation_matrix = np.array([\n",
    "#     [-0.993192, -0.099339,  0.060841],\n",
    "#     [-0.09994 ,  0.458301, -0.88316 ],\n",
    "#     [ 0.059849, -0.883228, -0.465109]\n",
    "# ])\n",
    "\n",
    "rotation_matrix = np.array([\n",
    "    [1, 0,  0],\n",
    "    [0 ,  -1,0 ],\n",
    "    [ 0,0, -1]\n",
    "])\n",
    "\n",
    "transformation_matrix = np.array([])\n",
    "\n",
    "rotation = Rotation.from_matrix(rotation_matrix)\n",
    "quaternion = rotation.as_quat()\n",
    "\n",
    "print(quaternion)  # Output will be the quaternion representation\n"
   ]
  }
 ],
 "metadata": {
  "kernelspec": {
   "display_name": "openmvs",
   "language": "python",
   "name": "python3"
  },
  "language_info": {
   "codemirror_mode": {
    "name": "ipython",
    "version": 3
   },
   "file_extension": ".py",
   "mimetype": "text/x-python",
   "name": "python",
   "nbconvert_exporter": "python",
   "pygments_lexer": "ipython3",
   "version": "3.10.9"
  },
  "orig_nbformat": 4
 },
 "nbformat": 4,
 "nbformat_minor": 2
}
